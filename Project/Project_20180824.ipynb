{
 "cells": [
  {
   "cell_type": "code",
   "execution_count": 19,
   "metadata": {},
   "outputs": [],
   "source": [
    "import datetime\n",
    "import logging\n",
    "import os\n",
    "from subprocess import call\n",
    "\n",
    "import numpy as np\n",
    "import pandas as pd\n",
    "from sqlalchemy import create_engine\n",
    "\n",
    "\n",
    "logging.basicConfig(format='%(asctime)s : %(levelname)s : %(message)s', level=logging.INFO)\n",
    "logger = logging.getLogger(__name__)\n",
    "\n",
    "# загружаем данные в Postgres\n",
    "call(\"bash /home/Egorov_load_project.sh\", shell=True)\n",
    "\n",
    "engine = create_engine('postgresql://postgres:@{}@postgres_host')"
   ]
  },
  {
   "cell_type": "code",
   "execution_count": 49,
   "metadata": {},
   "outputs": [
    {
     "name": "stderr",
     "output_type": "stream",
     "text": [
      "2018-08-24 10:50:12,578 : INFO : select из общего view со всеми атрибутами\n",
      "2018-08-24 10:50:12,589 : INFO : Загрузили типы данных Series([], dtype: object)\n"
     ]
    },
    {
     "name": "stdout",
     "output_type": "stream",
     "text": [
      "         account_number   account_name   client_name report_date  acc_value  \\\n",
      "0  42301000000000000001  Счет депозита   Иванов А.С.  2015-01-01   -10000.0   \n",
      "1  42301000000000000002  Счет депозита  Смирнов А.С.  2015-01-01   -50000.0   \n",
      "2  45201000000000000003  Счет депозита  Соболев А.С.  2015-01-01    -1000.0   \n",
      "3  45201000000000000004   Ссудный счет   Иванов А.С.  2015-01-01   580000.0   \n",
      "4  45201000000000000005   Ссудный счет  Смирнов А.С.  2015-01-01   400000.0   \n",
      "\n",
      "  department_name  \n",
      "0      Московский  \n",
      "1  Северозападный  \n",
      "2      Московский  \n",
      "3      Московский  \n",
      "4  Северозападный  \n"
     ]
    }
   ],
   "source": [
    "# загрузка данных из Postgres в датафрейм pandas\n",
    "accounts = pd.read_sql('select * from public.v_accounts ', engine)\n",
    "logger.info(\"select из общего view со всеми атрибутами\")\n",
    "print(accounts.head())\n",
    "logger.info(\"Загрузили типы данных {}\".format(ratings.dtypes))"
   ]
  },
  {
   "cell_type": "code",
   "execution_count": 155,
   "metadata": {},
   "outputs": [],
   "source": [
    "#Подсчет счетов у клиента аналог SQL запроса № 5\n",
    "\n",
    "account_count = accounts.groupby(['client_name']).agg({'acc_value':['count']})#.filter(lambda x: len(x) >= 3)\n"
   ]
  },
  {
   "cell_type": "code",
   "execution_count": 156,
   "metadata": {},
   "outputs": [
    {
     "name": "stdout",
     "output_type": "stream",
     "text": [
      "             acc_value\n",
      "                 count\n",
      "client_name           \n",
      "Иванов А.С.          2\n",
      "Смирнов А.С.         2\n",
      "Соболев А.С.         1\n"
     ]
    }
   ],
   "source": [
    "print(account_count.head())"
   ]
  },
  {
   "cell_type": "code",
   "execution_count": 159,
   "metadata": {},
   "outputs": [
    {
     "name": "stdout",
     "output_type": "stream",
     "text": [
      "         account_number  account_name   client_name report_date  acc_value  \\\n",
      "3  45201000000000000004  Ссудный счет   Иванов А.С.  2015-01-01   580000.0   \n",
      "4  45201000000000000005  Ссудный счет  Смирнов А.С.  2015-01-01   400000.0   \n",
      "\n",
      "  department_name    cumsum  \n",
      "3      Московский  570000.0  \n",
      "4  Северозападный  350000.0  \n"
     ]
    }
   ],
   "source": [
    "#Вывод клиентов только с положительным балансом - аналог SQL запроса №9\n",
    "\n",
    "window_sums = accounts.assign( \n",
    "    cumsum =accounts.groupby(['client_name'])['acc_value']\n",
    "    #.agg('sum') \n",
    "    .cumsum()# .rank(method='dense', ascending=True).astype(int) \n",
    ")   .query('cumsum >0').sort_values(['client_name', 'acc_value'])\n",
    "print(window_sums.head())\n",
    "\n",
    "#pd.merge(left,right,on=['id','subject_id'])"
   ]
  },
  {
   "cell_type": "code",
   "execution_count": 157,
   "metadata": {},
   "outputs": [],
   "source": [
    "account_count.to_csv(\"account_count.csv\", sep='\\t', encoding='utf-8')"
   ]
  },
  {
   "cell_type": "code",
   "execution_count": 160,
   "metadata": {},
   "outputs": [],
   "source": [
    "window_sums.apply(lambda x: x).to_csv(\"window_sums.csv\", sep='\\t', encoding='utf-8')"
   ]
  },
  {
   "cell_type": "code",
   "execution_count": null,
   "metadata": {},
   "outputs": [],
   "source": []
  }
 ],
 "metadata": {
  "kernelspec": {
   "display_name": "Python 3",
   "language": "python",
   "name": "python3"
  },
  "language_info": {
   "codemirror_mode": {
    "name": "ipython",
    "version": 3
   },
   "file_extension": ".py",
   "mimetype": "text/x-python",
   "name": "python",
   "nbconvert_exporter": "python",
   "pygments_lexer": "ipython3",
   "version": "3.6.5"
  }
 },
 "nbformat": 4,
 "nbformat_minor": 2
}
