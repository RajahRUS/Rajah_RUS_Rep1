{
 "cells": [
  {
   "cell_type": "code",
   "execution_count": 5,
   "metadata": {},
   "outputs": [],
   "source": [
    "import os\n",
    "import logging\n",
    "\n",
    "import psycopg2\n",
    "import psycopg2.extensions\n",
    "from pymongo import MongoClient\n",
    "import pandas as pd\n",
    "from sqlalchemy import create_engine\n",
    "from sqlalchemy import Table, Column, Integer, Float, MetaData, String\n",
    "from sqlalchemy.orm import sessionmaker\n",
    "from sqlalchemy.ext.declarative import declarative_base\n",
    "from subprocess import call\n",
    "\n",
    "logging.basicConfig(format='%(asctime)s : %(levelname)s : %(message)s', level=logging.INFO)\n",
    "logger = logging.getLogger(__name__)\n",
    "\n",
    "# Postgres\n",
    "#call(\"bash /home/Egorov_load_project.sh\", shell=True)\n",
    "engine = create_engine('postgresql://postgres:@{}@postgres_host')"
   ]
  },
  {
   "cell_type": "code",
   "execution_count": 15,
   "metadata": {},
   "outputs": [
    {
     "name": "stderr",
     "output_type": "stream",
     "text": [
      "2018-09-03 16:21:11,672 : INFO : select view \n",
      "2018-09-03 16:21:11,681 : INFO :  account_number      object\n",
      "account_name        object\n",
      "client_name         object\n",
      "report_date         object\n",
      "acc_value          float64\n",
      "department_name     object\n",
      "dtype: object\n"
     ]
    },
    {
     "name": "stdout",
     "output_type": "stream",
     "text": [
      "         account_number   account_name   client_name report_date  acc_value  \\\n",
      "0  42301000000000000001  Счет депозита   Иванов А.С.  2015-01-01   -10000.0   \n",
      "1  42301000000000000002  Счет депозита  Смирнов А.С.  2015-01-01   -50000.0   \n",
      "2  45201000000000000003  Счет депозита  Соболев А.С.  2015-01-01    -1000.0   \n",
      "3  45201000000000000004   Ссудный счет   Иванов А.С.  2015-01-01   580000.0   \n",
      "4  45201000000000000005   Ссудный счет  Смирнов А.С.  2015-01-01   400000.0   \n",
      "\n",
      "  department_name  \n",
      "0      Московский  \n",
      "1  Северозападный  \n",
      "2      Московский  \n",
      "3      Московский  \n",
      "4  Северозападный  \n"
     ]
    }
   ],
   "source": [
    "# Postgres pandas\n",
    "accounts = pd.read_sql('select * from public.v_accounts ', engine)\n",
    "logger.info(\"select view \")\n",
    "print(accounts.head())\n",
    "logger.info(\" {}\".format(accounts.dtypes))"
   ]
  },
  {
   "cell_type": "code",
   "execution_count": 70,
   "metadata": {},
   "outputs": [
    {
     "data": {
      "text/plain": [
       "0     Иванов А.С.\n",
       "1    Смирнов А.С.\n",
       "2    Соболев А.С.\n",
       "3     Иванов А.С.\n",
       "4    Смирнов А.С.\n",
       "Name: client_name, dtype: object"
      ]
     },
     "execution_count": 70,
     "metadata": {},
     "output_type": "execute_result"
    }
   ],
   "source": [
    "# Аналог 12 запроса выгрузка клиентов \n",
    "clients = accounts['client_name']\n",
    "clients"
   ]
  },
  {
   "cell_type": "code",
   "execution_count": 42,
   "metadata": {},
   "outputs": [
    {
     "data": {
      "text/html": [
       "<div>\n",
       "<style scoped>\n",
       "    .dataframe tbody tr th:only-of-type {\n",
       "        vertical-align: middle;\n",
       "    }\n",
       "\n",
       "    .dataframe tbody tr th {\n",
       "        vertical-align: top;\n",
       "    }\n",
       "\n",
       "    .dataframe thead tr th {\n",
       "        text-align: left;\n",
       "    }\n",
       "\n",
       "    .dataframe thead tr:last-of-type th {\n",
       "        text-align: right;\n",
       "    }\n",
       "</style>\n",
       "<table border=\"1\" class=\"dataframe\">\n",
       "  <thead>\n",
       "    <tr>\n",
       "      <th></th>\n",
       "      <th>acc_value</th>\n",
       "    </tr>\n",
       "    <tr>\n",
       "      <th></th>\n",
       "      <th>count</th>\n",
       "    </tr>\n",
       "    <tr>\n",
       "      <th>client_name</th>\n",
       "      <th></th>\n",
       "    </tr>\n",
       "  </thead>\n",
       "  <tbody>\n",
       "    <tr>\n",
       "      <th>Иванов А.С.</th>\n",
       "      <td>2</td>\n",
       "    </tr>\n",
       "    <tr>\n",
       "      <th>Смирнов А.С.</th>\n",
       "      <td>2</td>\n",
       "    </tr>\n",
       "    <tr>\n",
       "      <th>Соболев А.С.</th>\n",
       "      <td>1</td>\n",
       "    </tr>\n",
       "  </tbody>\n",
       "</table>\n",
       "</div>"
      ],
      "text/plain": [
       "             acc_value\n",
       "                 count\n",
       "client_name           \n",
       "Иванов А.С.          2\n",
       "Смирнов А.С.         2\n",
       "Соболев А.С.         1"
      ]
     },
     "execution_count": 42,
     "metadata": {},
     "output_type": "execute_result"
    }
   ],
   "source": [
    "# запрос 1 счетов у клиента запрос 5\n",
    "account_count = accounts.groupby(['client_name']).agg({'acc_value':['count']})\n",
    "account_count"
   ]
  },
  {
   "cell_type": "code",
   "execution_count": 131,
   "metadata": {},
   "outputs": [
    {
     "name": "stderr",
     "output_type": "stream",
     "text": [
      "/opt/conda/lib/python3.6/site-packages/pandas/core/reshape/merge.py:544: UserWarning: merging between different levels can give an unintended result (1 levels on the left, 2 on the right)\n",
      "  warnings.warn(msg, UserWarning)\n"
     ]
    },
    {
     "data": {
      "text/html": [
       "<div>\n",
       "<style scoped>\n",
       "    .dataframe tbody tr th:only-of-type {\n",
       "        vertical-align: middle;\n",
       "    }\n",
       "\n",
       "    .dataframe tbody tr th {\n",
       "        vertical-align: top;\n",
       "    }\n",
       "\n",
       "    .dataframe thead th {\n",
       "        text-align: right;\n",
       "    }\n",
       "</style>\n",
       "<table border=\"1\" class=\"dataframe\">\n",
       "  <thead>\n",
       "    <tr style=\"text-align: right;\">\n",
       "      <th></th>\n",
       "      <th>acc_value</th>\n",
       "    </tr>\n",
       "  </thead>\n",
       "  <tbody>\n",
       "    <tr>\n",
       "      <th>count</th>\n",
       "      <td>2</td>\n",
       "    </tr>\n",
       "  </tbody>\n",
       "</table>\n",
       "</div>"
      ],
      "text/plain": [
       "       acc_value\n",
       "count          2"
      ]
     },
     "execution_count": 131,
     "metadata": {},
     "output_type": "execute_result"
    }
   ],
   "source": [
    "# Количество счетов по клиенту у которого больше всех средств аналог SQL запроса 7\n",
    "grouped = accounts.groupby(['client_name']).agg({'acc_value':['sum']}).head(1).filter(items = ['client_name'])\n",
    "pd.merge(accounts, grouped, on = ['client_name', 'client_name'], how = 'inner').agg({'acc_value':['count']})\n",
    "#accounts.loc[accounts.groupby(['client_name']).agg({'acc_value':['sum']}).head(1).filter(items = ['client_name']).idxmax()]"
   ]
  },
  {
   "cell_type": "code",
   "execution_count": 107,
   "metadata": {},
   "outputs": [
    {
     "data": {
      "text/html": [
       "<div>\n",
       "<style scoped>\n",
       "    .dataframe tbody tr th:only-of-type {\n",
       "        vertical-align: middle;\n",
       "    }\n",
       "\n",
       "    .dataframe tbody tr th {\n",
       "        vertical-align: top;\n",
       "    }\n",
       "\n",
       "    .dataframe thead tr th {\n",
       "        text-align: left;\n",
       "    }\n",
       "\n",
       "    .dataframe thead tr:last-of-type th {\n",
       "        text-align: right;\n",
       "    }\n",
       "</style>\n",
       "<table border=\"1\" class=\"dataframe\">\n",
       "  <thead>\n",
       "    <tr>\n",
       "      <th></th>\n",
       "      <th>acc_value</th>\n",
       "    </tr>\n",
       "    <tr>\n",
       "      <th></th>\n",
       "      <th>sum</th>\n",
       "    </tr>\n",
       "    <tr>\n",
       "      <th>client_name</th>\n",
       "      <th></th>\n",
       "    </tr>\n",
       "  </thead>\n",
       "  <tbody>\n",
       "    <tr>\n",
       "      <th>Иванов А.С.</th>\n",
       "      <td>570000.0</td>\n",
       "    </tr>\n",
       "    <tr>\n",
       "      <th>Смирнов А.С.</th>\n",
       "      <td>350000.0</td>\n",
       "    </tr>\n",
       "    <tr>\n",
       "      <th>Соболев А.С.</th>\n",
       "      <td>-1000.0</td>\n",
       "    </tr>\n",
       "  </tbody>\n",
       "</table>\n",
       "</div>"
      ],
      "text/plain": [
       "             acc_value\n",
       "                   sum\n",
       "client_name           \n",
       "Иванов А.С.   570000.0\n",
       "Смирнов А.С.  350000.0\n",
       "Соболев А.С.   -1000.0"
      ]
     },
     "execution_count": 107,
     "metadata": {},
     "output_type": "execute_result"
    }
   ],
   "source": [
    "# Аналог запроса \n",
    "accounts.groupby(['client_name']).agg({'acc_value':['sum']})"
   ]
  },
  {
   "cell_type": "code",
   "execution_count": 106,
   "metadata": {},
   "outputs": [
    {
     "name": "stdout",
     "output_type": "stream",
     "text": [
      "    client_name    cumsum\n",
      "3   Иванов А.С.  570000.0\n",
      "4  Смирнов А.С.  350000.0\n"
     ]
    }
   ],
   "source": [
    "# вывод клиентов с положительным остатком аналог запроса №9\n",
    "window_sums = accounts.assign(\n",
    "cumsum =accounts.groupby(['client_name'])['acc_value']\n",
    ".cumsum()\n",
    ") .query('cumsum >0').sort_values(['client_name', 'cumsum'], ascending = [True, False]).filter(items = ['client_name', 'cumsum'])\n",
    "print(window_sums)"
   ]
  },
  {
   "cell_type": "code",
   "execution_count": 13,
   "metadata": {},
   "outputs": [],
   "source": [
    "account_count.to_csv(\"account_count.csv\", sep='\\t', encoding='utf-8')"
   ]
  },
  {
   "cell_type": "code",
   "execution_count": 14,
   "metadata": {},
   "outputs": [
    {
     "data": {
      "text/plain": [
       "2"
      ]
     },
     "execution_count": 14,
     "metadata": {},
     "output_type": "execute_result"
    }
   ],
   "source": [
    "window_sums.apply(lambda x: x).to_csv(\"window_sums.csv\", sep='\\t', encoding='utf-8')\n",
    "2"
   ]
  }
 ],
 "metadata": {
  "kernelspec": {
   "display_name": "Python 3",
   "language": "python",
   "name": "python3"
  },
  "language_info": {
   "codemirror_mode": {
    "name": "ipython",
    "version": 3
   },
   "file_extension": ".py",
   "mimetype": "text/x-python",
   "name": "python",
   "nbconvert_exporter": "python",
   "pygments_lexer": "ipython3",
   "version": "3.6.5"
  }
 },
 "nbformat": 4,
 "nbformat_minor": 2
}
